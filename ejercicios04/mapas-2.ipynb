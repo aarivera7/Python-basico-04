{
 "cells": [
  {
   "cell_type": "code",
   "execution_count": 1,
   "id": "6c07768f",
   "metadata": {},
   "outputs": [],
   "source": [
    "from ipyleaflet import Map, MagnifyingGlass, basemaps, basemap_to_tiles, Marker\n",
    "import pandas as pd"
   ]
  },
  {
   "cell_type": "code",
   "execution_count": 2,
   "id": "d1c8908e",
   "metadata": {},
   "outputs": [],
   "source": [
    "datos = pd.read_json(\"data/country-codes-lat-long-alpha3.json\")"
   ]
  },
  {
   "cell_type": "code",
   "execution_count": 3,
   "id": "bbc656c3",
   "metadata": {},
   "outputs": [],
   "source": [
    "# pasa a lista\n",
    "lista = datos['ref_country_codes'].tolist()"
   ]
  },
  {
   "cell_type": "code",
   "execution_count": 4,
   "id": "933b6777",
   "metadata": {},
   "outputs": [],
   "source": [
    "datos_paises = pd.DataFrame(lista)"
   ]
  },
  {
   "cell_type": "code",
   "execution_count": 5,
   "id": "831924aa",
   "metadata": {},
   "outputs": [
    {
     "data": {
      "text/html": [
       "<div>\n",
       "<style scoped>\n",
       "    .dataframe tbody tr th:only-of-type {\n",
       "        vertical-align: middle;\n",
       "    }\n",
       "\n",
       "    .dataframe tbody tr th {\n",
       "        vertical-align: top;\n",
       "    }\n",
       "\n",
       "    .dataframe thead th {\n",
       "        text-align: right;\n",
       "    }\n",
       "</style>\n",
       "<table border=\"1\" class=\"dataframe\">\n",
       "  <thead>\n",
       "    <tr style=\"text-align: right;\">\n",
       "      <th></th>\n",
       "      <th>country</th>\n",
       "      <th>alpha2</th>\n",
       "      <th>alpha3</th>\n",
       "      <th>numeric</th>\n",
       "      <th>latitude</th>\n",
       "      <th>longitude</th>\n",
       "    </tr>\n",
       "  </thead>\n",
       "  <tbody>\n",
       "    <tr>\n",
       "      <th>0</th>\n",
       "      <td>Albania</td>\n",
       "      <td>AL</td>\n",
       "      <td>ALB</td>\n",
       "      <td>8</td>\n",
       "      <td>41.0000</td>\n",
       "      <td>20.0</td>\n",
       "    </tr>\n",
       "    <tr>\n",
       "      <th>1</th>\n",
       "      <td>Algeria</td>\n",
       "      <td>DZ</td>\n",
       "      <td>DZA</td>\n",
       "      <td>12</td>\n",
       "      <td>28.0000</td>\n",
       "      <td>3.0</td>\n",
       "    </tr>\n",
       "    <tr>\n",
       "      <th>2</th>\n",
       "      <td>American Samoa</td>\n",
       "      <td>AS</td>\n",
       "      <td>ASM</td>\n",
       "      <td>16</td>\n",
       "      <td>-14.3333</td>\n",
       "      <td>-170.0</td>\n",
       "    </tr>\n",
       "    <tr>\n",
       "      <th>3</th>\n",
       "      <td>Andorra</td>\n",
       "      <td>AD</td>\n",
       "      <td>AND</td>\n",
       "      <td>20</td>\n",
       "      <td>42.5000</td>\n",
       "      <td>1.6</td>\n",
       "    </tr>\n",
       "    <tr>\n",
       "      <th>4</th>\n",
       "      <td>Angola</td>\n",
       "      <td>AO</td>\n",
       "      <td>AGO</td>\n",
       "      <td>24</td>\n",
       "      <td>-12.5000</td>\n",
       "      <td>18.5</td>\n",
       "    </tr>\n",
       "    <tr>\n",
       "      <th>...</th>\n",
       "      <td>...</td>\n",
       "      <td>...</td>\n",
       "      <td>...</td>\n",
       "      <td>...</td>\n",
       "      <td>...</td>\n",
       "      <td>...</td>\n",
       "    </tr>\n",
       "    <tr>\n",
       "      <th>238</th>\n",
       "      <td>Western Sahara</td>\n",
       "      <td>EH</td>\n",
       "      <td>ESH</td>\n",
       "      <td>732</td>\n",
       "      <td>24.5000</td>\n",
       "      <td>-13.0</td>\n",
       "    </tr>\n",
       "    <tr>\n",
       "      <th>239</th>\n",
       "      <td>Yemen</td>\n",
       "      <td>YE</td>\n",
       "      <td>YEM</td>\n",
       "      <td>887</td>\n",
       "      <td>15.0000</td>\n",
       "      <td>48.0</td>\n",
       "    </tr>\n",
       "    <tr>\n",
       "      <th>240</th>\n",
       "      <td>Zambia</td>\n",
       "      <td>ZM</td>\n",
       "      <td>ZMB</td>\n",
       "      <td>894</td>\n",
       "      <td>-15.0000</td>\n",
       "      <td>30.0</td>\n",
       "    </tr>\n",
       "    <tr>\n",
       "      <th>241</th>\n",
       "      <td>Zimbabwe</td>\n",
       "      <td>ZW</td>\n",
       "      <td>ZWE</td>\n",
       "      <td>716</td>\n",
       "      <td>-20.0000</td>\n",
       "      <td>30.0</td>\n",
       "    </tr>\n",
       "    <tr>\n",
       "      <th>242</th>\n",
       "      <td>Afghanistan</td>\n",
       "      <td>AF</td>\n",
       "      <td>AFG</td>\n",
       "      <td>4</td>\n",
       "      <td>33.0000</td>\n",
       "      <td>65.0</td>\n",
       "    </tr>\n",
       "  </tbody>\n",
       "</table>\n",
       "<p>243 rows × 6 columns</p>\n",
       "</div>"
      ],
      "text/plain": [
       "            country alpha2 alpha3  numeric  latitude  longitude\n",
       "0           Albania     AL    ALB        8   41.0000       20.0\n",
       "1           Algeria     DZ    DZA       12   28.0000        3.0\n",
       "2    American Samoa     AS    ASM       16  -14.3333     -170.0\n",
       "3           Andorra     AD    AND       20   42.5000        1.6\n",
       "4            Angola     AO    AGO       24  -12.5000       18.5\n",
       "..              ...    ...    ...      ...       ...        ...\n",
       "238  Western Sahara     EH    ESH      732   24.5000      -13.0\n",
       "239           Yemen     YE    YEM      887   15.0000       48.0\n",
       "240          Zambia     ZM    ZMB      894  -15.0000       30.0\n",
       "241        Zimbabwe     ZW    ZWE      716  -20.0000       30.0\n",
       "242     Afghanistan     AF    AFG        4   33.0000       65.0\n",
       "\n",
       "[243 rows x 6 columns]"
      ]
     },
     "execution_count": 5,
     "metadata": {},
     "output_type": "execute_result"
    }
   ],
   "source": [
    "datos_paises"
   ]
  },
  {
   "cell_type": "code",
   "execution_count": 6,
   "id": "bc601bf7",
   "metadata": {},
   "outputs": [
    {
     "data": {
      "text/plain": [
       "[{'country': 'Chile',\n",
       "  'alpha2': 'CL',\n",
       "  'alpha3': 'CHL',\n",
       "  'numeric': 152,\n",
       "  'latitude': -30.0,\n",
       "  'longitude': -71.0},\n",
       " {'country': 'Colombia',\n",
       "  'alpha2': 'CO',\n",
       "  'alpha3': 'COL',\n",
       "  'numeric': 170,\n",
       "  'latitude': 4.0,\n",
       "  'longitude': -72.0},\n",
       " {'country': 'Ecuador',\n",
       "  'alpha2': 'EC',\n",
       "  'alpha3': 'ECU',\n",
       "  'numeric': 218,\n",
       "  'latitude': -2.0,\n",
       "  'longitude': -77.5},\n",
       " {'country': 'Venezuela, Bolivarian Republic of',\n",
       "  'alpha2': 'VE',\n",
       "  'alpha3': 'VEN',\n",
       "  'numeric': 862,\n",
       "  'latitude': 8.0,\n",
       "  'longitude': -66.0}]"
      ]
     },
     "execution_count": 6,
     "metadata": {},
     "output_type": "execute_result"
    }
   ],
   "source": [
    "datos_valores = datos_paises.to_dict(\"records\")\n",
    "datos_valores[0]\n",
    "datos_valores = [d for d in datos_valores if d['country'] in [\"Ecuador\", \"Colombia\", \"Chile\", \\\n",
    "                                                              \"Venezuela, Bolivarian Republic of\"]]\n",
    "datos_valores"
   ]
  },
  {
   "cell_type": "code",
   "execution_count": 7,
   "id": "0d24e2b0",
   "metadata": {},
   "outputs": [
    {
     "data": {
      "application/vnd.jupyter.widget-view+json": {
       "model_id": "13df04447f7840d28c558a8db24be6a0",
       "version_major": 2,
       "version_minor": 0
      },
      "text/plain": [
       "Map(center=[-34, -64], controls=(ZoomControl(options=['position', 'zoom_in_text', 'zoom_in_title', 'zoom_out_t…"
      ]
     },
     "metadata": {},
     "output_type": "display_data"
    }
   ],
   "source": [
    "center = (-34, -64)\n",
    "m = Map(center=center, zoom=2)\n",
    "for d in datos_valores:\n",
    "    c = (d['latitude'], d['longitude'])\n",
    "    marker = Marker(location=c, draggable=False)\n",
    "    m.add_layer(marker);\n",
    "\n",
    "\n",
    "# m.add_layer(magnifying_glass)\n",
    "m"
   ]
  },
  {
   "cell_type": "code",
   "execution_count": 8,
   "id": "482a1c9f",
   "metadata": {},
   "outputs": [
    {
     "name": "stdout",
     "output_type": "stream",
     "text": [
      "Chile\n",
      "Colombia\n",
      "Ecuador\n",
      "Venezuela, Bolivarian Republic of\n"
     ]
    },
    {
     "data": {
      "application/vnd.jupyter.widget-view+json": {
       "model_id": "cfb85f7c6cc84d9b9ac8d80f79389070",
       "version_major": 2,
       "version_minor": 0
      },
      "text/plain": [
       "Map(center=[-34, -64], controls=(ZoomControl(options=['position', 'zoom_in_text', 'zoom_in_title', 'zoom_out_t…"
      ]
     },
     "metadata": {},
     "output_type": "display_data"
    }
   ],
   "source": [
    "center = (-34, -64)\n",
    "m = Map(center=center, zoom=2)\n",
    "for d in datos_valores:\n",
    "    c = (d['latitude'], d['longitude'])\n",
    "    print(d['country'])\n",
    "    marker = Marker(location=c, draggable=False, title=d['country'], alt=d['country'])\n",
    "    m.add_layer(marker);\n",
    "\n",
    "\n",
    "# m.add_layer(magnifying_glass)\n",
    "m"
   ]
  },
  {
   "cell_type": "code",
   "execution_count": null,
   "id": "361a9f8b",
   "metadata": {},
   "outputs": [],
   "source": []
  }
 ],
 "metadata": {
  "kernelspec": {
   "display_name": "Python 3 (ipykernel)",
   "language": "python",
   "name": "python3"
  },
  "language_info": {
   "codemirror_mode": {
    "name": "ipython",
    "version": 3
   },
   "file_extension": ".py",
   "mimetype": "text/x-python",
   "name": "python",
   "nbconvert_exporter": "python",
   "pygments_lexer": "ipython3",
   "version": "3.9.6"
  }
 },
 "nbformat": 4,
 "nbformat_minor": 5
}
